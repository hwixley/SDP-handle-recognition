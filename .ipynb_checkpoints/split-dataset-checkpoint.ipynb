{
 "cells": [
  {
   "cell_type": "code",
   "execution_count": 6,
   "id": "accompanied-secondary",
   "metadata": {},
   "outputs": [],
   "source": [
    "import os\n",
    "import numpy as np\n",
    "import math\n",
    "import random\n",
    "from PIL import Image\n",
    "\n",
    "path = os.getcwd() + \"/frames/img/\"\n",
    "numSamples = 1043"
   ]
  },
  {
   "cell_type": "markdown",
   "id": "blessed-gregory",
   "metadata": {},
   "source": [
    "## Get labels"
   ]
  },
  {
   "cell_type": "code",
   "execution_count": 7,
   "id": "flying-primary",
   "metadata": {},
   "outputs": [],
   "source": [
    "labels = np.empty((numSamples))\n",
    "\n",
    "for s in range(numSamples):\n",
    "    txtFile = open(path+str(s)+\".txt\",\"r\").read()\n",
    "    \n",
    "    if txtFile == \"\":\n",
    "        labels[s] = 0\n",
    "    else:\n",
    "        labels[s] = 1"
   ]
  },
  {
   "cell_type": "markdown",
   "id": "double-honey",
   "metadata": {},
   "source": [
    "## Calculate split"
   ]
  },
  {
   "cell_type": "code",
   "execution_count": 8,
   "id": "modern-ribbon",
   "metadata": {},
   "outputs": [
    {
     "data": {
      "text/plain": [
       "{0.0: 503, 1.0: 540}"
      ]
     },
     "execution_count": 8,
     "metadata": {},
     "output_type": "execute_result"
    }
   ],
   "source": [
    "unique, counts = np.unique(labels, return_counts=True)\n",
    "numClassSamples = min(counts) - (min(counts)%4)\n",
    "trainSplit = math.floor(0.7*numClassSamples)\n",
    "testSplit = numClassSamples - trainSplit\n",
    "\n",
    "dict(zip(unique, counts))"
   ]
  },
  {
   "cell_type": "markdown",
   "id": "official-baltimore",
   "metadata": {},
   "source": [
    "## Split data"
   ]
  },
  {
   "cell_type": "code",
   "execution_count": 9,
   "id": "electoral-waterproof",
   "metadata": {},
   "outputs": [],
   "source": [
    "order = np.arange(numSamples)\n",
    "random.shuffle(order)\n",
    "\n",
    "train = np.empty((trainSplit*2))\n",
    "trainBalance = [0,0]\n",
    "test = np.empty((testSplit*2))\n",
    "testBalance = [0,0]"
   ]
  },
  {
   "cell_type": "code",
   "execution_count": 11,
   "id": "hydraulic-there",
   "metadata": {},
   "outputs": [
    {
     "name": "stdout",
     "output_type": "stream",
     "text": [
      "500\n",
      "350\n",
      "150\n"
     ]
    }
   ],
   "source": [
    "print(numClassSamples)\n",
    "print(trainSplit)\n",
    "print(testSplit)"
   ]
  },
  {
   "cell_type": "code",
   "execution_count": 15,
   "id": "noble-palmer",
   "metadata": {},
   "outputs": [
    {
     "ename": "TypeError",
     "evalue": "list indices must be integers or slices, not numpy.float64",
     "output_type": "error",
     "traceback": [
      "\u001b[0;31m---------------------------------------------------------------------------\u001b[0m",
      "\u001b[0;31mTypeError\u001b[0m                                 Traceback (most recent call last)",
      "\u001b[0;32m<ipython-input-15-379113ee0e35>\u001b[0m in \u001b[0;36m<module>\u001b[0;34m\u001b[0m\n\u001b[1;32m      5\u001b[0m         \u001b[0misDoor\u001b[0m \u001b[0;34m=\u001b[0m \u001b[0;36m0\u001b[0m\u001b[0;34m\u001b[0m\u001b[0;34m\u001b[0m\u001b[0m\n\u001b[1;32m      6\u001b[0m \u001b[0;34m\u001b[0m\u001b[0m\n\u001b[0;32m----> 7\u001b[0;31m     \u001b[0;32mif\u001b[0m \u001b[0mtrainBalance\u001b[0m\u001b[0;34m[\u001b[0m\u001b[0mlabels\u001b[0m\u001b[0;34m[\u001b[0m\u001b[0mindex\u001b[0m\u001b[0;34m]\u001b[0m\u001b[0;34m]\u001b[0m \u001b[0;34m<\u001b[0m \u001b[0mtrainSplit\u001b[0m\u001b[0;34m:\u001b[0m\u001b[0;34m\u001b[0m\u001b[0;34m\u001b[0m\u001b[0m\n\u001b[0m\u001b[1;32m      8\u001b[0m         \u001b[0mtrain\u001b[0m\u001b[0;34m.\u001b[0m\u001b[0mput\u001b[0m\u001b[0;34m(\u001b[0m\u001b[0mtrainBalance\u001b[0m\u001b[0;34m[\u001b[0m\u001b[0;36m0\u001b[0m\u001b[0;34m]\u001b[0m \u001b[0;34m+\u001b[0m \u001b[0mtrainBalance\u001b[0m\u001b[0;34m[\u001b[0m\u001b[0;36m1\u001b[0m\u001b[0;34m]\u001b[0m\u001b[0;34m,\u001b[0m \u001b[0mindex\u001b[0m\u001b[0;34m)\u001b[0m\u001b[0;34m\u001b[0m\u001b[0;34m\u001b[0m\u001b[0m\n\u001b[1;32m      9\u001b[0m         \u001b[0mtrainBalance\u001b[0m\u001b[0;34m[\u001b[0m\u001b[0mlabels\u001b[0m\u001b[0;34m[\u001b[0m\u001b[0mindex\u001b[0m\u001b[0;34m]\u001b[0m\u001b[0;34m]\u001b[0m \u001b[0;34m+=\u001b[0m \u001b[0;36m1\u001b[0m\u001b[0;34m\u001b[0m\u001b[0;34m\u001b[0m\u001b[0m\n",
      "\u001b[0;31mTypeError\u001b[0m: list indices must be integers or slices, not numpy.float64"
     ]
    }
   ],
   "source": [
    "for index in order:\n",
    "    classL = labels[index].astype(\"int\")\n",
    "        \n",
    "    if trainBalance[labels[index]] < trainSplit:\n",
    "        train.put(trainBalance[0] + trainBalance[1], index)\n",
    "        trainBalance[labels[index]] += 1\n",
    "        \n",
    "    elif testBalance[labels[index]] < testSplit:\n",
    "        test.put(testBalance[0] + testBalance[1], index)\n",
    "        testBalance[labels[index]] += 1"
   ]
  },
  {
   "cell_type": "code",
   "execution_count": 13,
   "id": "identical-trainer",
   "metadata": {},
   "outputs": [
    {
     "data": {
      "text/plain": [
       "array([ 131.,   22.,  579.,  924.,   93.,  216.,  715.,  882.,  660.,\n",
       "       1037.,  929.,   50.,   73.,  744.,  132.,  450.,  181.,  444.,\n",
       "        748.,  865.,  177.,  218.,   80.,  452.,  151.,  254.,  840.,\n",
       "         47.,  458.,  629.,  812.,  733.,  380.,  967.,  707.,  246.,\n",
       "         37.,  145.,  845.,  555.,  383.,   85.,  125.,  838.,  980.,\n",
       "       1009.,  699.,  202.,  223.,  356.,  670.,  195.,  255.,   75.,\n",
       "        372.,  445.,   30., 1022.,  912.,  650.,  368.,  282.,  702.,\n",
       "       1025.,  853.,  229.,  262.,  681.,  935.,  567.,  158.,  944.,\n",
       "        190.,  570.,  373.,  886.,  581.,  503.,  995.,  136.,  154.,\n",
       "        827.,  850.,  414.,   26.,  978.,  741.,   97.,  828.,  606.,\n",
       "         28.,  726.,  135.,  630.,  307.,  329.,  400.,  243.,  392.,\n",
       "         45.,  182.,  547.,  813.,  221.,  112.,  632.,  146.,  149.,\n",
       "        799.,  162.,   33.,  593.,  754.,  491.,  583.,  562.,  735.,\n",
       "        947.,   82.,  970.,  876.,  585.,  541.,  296.,  342.,  815.,\n",
       "        425.,  592.,  974.,  591.,  751.,  185.,  800.,  311.,  124.,\n",
       "        931.,  982.,  808.,  709.,  724.,  420.,  665.,  272.,   67.,\n",
       "       1008.,  514.,  220.,  204.,  634.,  156.,   34.,  465.,  283.,\n",
       "        108.,  426.,  620.,  244.,  210.,  259.,  354.,  300.,  219.,\n",
       "        793.,  274.,  346.,  823.,  298., 1019.,  607.,  322.,  675.,\n",
       "        469.,  252.,  209.,  810.,  778., 1015.,  952.,  328., 1004.,\n",
       "        557.,  509.,  911.,  228.,  407.,  782.,  217.,  648.,  993.,\n",
       "        977.,  123.,  867.,  129.,  790.,  120.,  729.,  377.,  893.,\n",
       "          0.,  389.,  885.,  763.,  957.,  941.,  468.,  540.,  990.,\n",
       "         42.,  422.,  148., 1018.,  783.,  335.,  622.,   31.,  487.,\n",
       "       1023.,  304.,   92.,  792.,  188.,   59.,  438.,  111.,  292.,\n",
       "          5.,  399.,  345.,  608.,  757.,  830.,  197.,  572.,  432.,\n",
       "        472.,  163.,  584.,  891.,  712.,  573., 1020.,  331.,   77.,\n",
       "        558.,  286.,  230.,  842.,  353.,  638.,  320.,  497.,  737.,\n",
       "        284.,  390.,  595.,  981.,  742.,    3.,  251.,  314.,  936.,\n",
       "        814.,  565.,  105.,  279.,  643.,  215.,  529.,  443.,  874.,\n",
       "        609.,  140.,  676.,  635.,  890.,  408.,  646.,  610.,  294.,\n",
       "        484.,  447.,   70.,   90.,  277.,  959.,  396.,  175.,  644.,\n",
       "        517.,  208.,  317.,  453.,  533.,  119.,  897.,  668.,  652.,\n",
       "        506.,  265.,  580.,  258.,  868.,  973.,  777.,  271.,  894.,\n",
       "        866.,  548.,  263.,  749.,  475.,  919.,  293.,  831.,  207.,\n",
       "        806.,  913.,  655.,  627.,   24.,  543.,  902.,   39.,  206.,\n",
       "        174.,   52.,  888.,  839.,  816.,  222.,  100.,  552.,  405.,\n",
       "        318.,    4.,  192.,  598., 1029.,  600.,  379.,  239.,  906.,\n",
       "        295.,  986.,  942.,  211.,  710.,  658.,  836.,  561.,  137.,\n",
       "       1001.,   91.,  512.,  482.,  686.,  657.,  126.,  189.,  728.,\n",
       "        539.,  104.,  386.,    8.,  895.,  236.,   65.,  358.,  752.,\n",
       "        160.,  847.,   98.,  586.,  364.,  347.,  417.,  722.,  649.,\n",
       "        671., 1034.,  225.,  409.,  588.,  662.,  768.,  976.,  761.,\n",
       "        186.,  626.,  870.,  214.,  107.,  559.,   40.,  938.,  695.,\n",
       "        904.,   36.,  972.,  462.,  760.,  939.,  743.,  855.,  979.,\n",
       "        789.,  518.,  711.,  759.,   46.,  647.,  962.,  704.,  899.,\n",
       "        343.,  571.,  786.,  693.,  248.,  310.,  180.,  774.,  268.,\n",
       "         10.,  859.,   72.,  350.,   78.,  948.,  678.,  612., 1033.,\n",
       "        773.,  530.,  205.,  159.,  393.,  596.,  232.,  623.,  287.,\n",
       "        915.,  344.,  862.,  442.,  388.,   38.,  958.,   58.,  664.,\n",
       "         51.,   86.,  184.,  718.,  994., 1026.,  464.,  640.,  673.,\n",
       "        337.,  694.,  604.,  785.,  273., 1035.,   27.,  535.,  716.,\n",
       "        617.,  992.,  500.,   61.,  416.,  930.,  807.,  349.,   88.,\n",
       "        732.,  549.,  434.,   94.,  170.,  402.,   87.,  109.,  477.,\n",
       "        334.,  851.,  534.,    6.,  478.,   21.,  267.,   76.,  138.,\n",
       "        554.,  369.,  987.,  864.,  781.,  224.,  551.,  775.,  907.,\n",
       "        794.,  843.,  532.,  969.,  203.,  266.,  531.,  391.,  498.,\n",
       "        382.,  413.,  339., 1002.,  133.,  361.,  965.,  846.,  798.,\n",
       "        257.,  669.,  736.,  611.,  164.,  359.,  881.,  687.,  955.,\n",
       "        739.,  446.,  288.,  727.,  753.,  811.,  424., 1039.,  435.,\n",
       "        169., 1012.,  463.,  256.,  412.,  280.,   81.,  674.,  381.,\n",
       "        326.,  932.,  619.,  457.,  889.,  892.,  797.,  199.,  332.,\n",
       "        966.,   89.,  683.,  765.,   18.,  397.,  903.,  471.,  950.,\n",
       "        309.,  313.,  772.,  235.,  971.,  367.,   14.,  240.,  371.,\n",
       "        624.,  684.,  758.,  900.,  949.,  590.,  784.,  568.,  490.,\n",
       "         66.,  423.,  493.,  456.,  241.,  247.,  861.,  327.,  922.,\n",
       "        115.,  153.,  791.,  305.,  250.,  576.,  476.,  433.,  858.,\n",
       "        198.,  688., 1014.,  764.,   49.,  139.,   20.,  281.,  999.,\n",
       "       1006.,  504.,  672.,   95.,  323.,   83.,  449.,  384.,  370.,\n",
       "        879.,  933., 1041.,  194.,  460.,  196.,  642.,  603.,  852.,\n",
       "        394.,  679.,  869.,  925.,  771.,  835.,  918.,  178.,  200.,\n",
       "        553.,  975.,  680., 1027.,  963.,  387.,  505.,  187.,  661.,\n",
       "        494.,  155.,  319.,  740.,  788.,  502.,  483.,  920.,  352.,\n",
       "        755.,  127.,  285.,  746.,  166.,  577.,  167.,   68.,  439.,\n",
       "         79.,   13.,  639.,  315.,  769.,  921.,  700.,  546.,  666.,\n",
       "        545.,  436.,    2.,  909.,  193., 1017.,  804.,  440.,  467.,\n",
       "        637., 1036.,  937.,   17.,  654.,  720.,  147.,   44.,   12.,\n",
       "        269.,   53.,  802.,  723.,  796.,  725.,  106.])"
      ]
     },
     "execution_count": 13,
     "metadata": {},
     "output_type": "execute_result"
    }
   ],
   "source": [
    "train*"
   ]
  },
  {
   "cell_type": "code",
   "execution_count": 14,
   "id": "traditional-thought",
   "metadata": {},
   "outputs": [
    {
     "name": "stdout",
     "output_type": "stream",
     "text": [
      "[350, 350]\n",
      "[150, 150]\n"
     ]
    }
   ],
   "source": [
    "print(trainBalance)\n",
    "print(testBalance)\n",
    "train = train.astype(\"int\")\n",
    "test = test.astype(\"int\")"
   ]
  },
  {
   "cell_type": "code",
   "execution_count": 86,
   "id": "polished-white",
   "metadata": {},
   "outputs": [
    {
     "name": "stdout",
     "output_type": "stream",
     "text": [
      "True\n"
     ]
    }
   ],
   "source": [
    "unique, counts = np.unique(np.concatenate((test,train)), return_counts=True)\n",
    "print(len(counts) == 2*(testSplit+trainSplit))"
   ]
  },
  {
   "cell_type": "code",
   "execution_count": 87,
   "id": "industrial-cutting",
   "metadata": {},
   "outputs": [],
   "source": [
    "for s in range(len(train)):\n",
    "    sample = train[s]\n",
    "    \n",
    "    newPath = os.getcwd() + \"/balancedDataset/train/\" + str(s)\n",
    "    \n",
    "    txtFile = open(path + str(s) + \".txt\",\"r\").read()\n",
    "    newFile = open(newPath + \".txt\",\"w\")\n",
    "    newFile.write(txtFile)\n",
    "        \n",
    "    image = Image.open(path + str(s) + \".jpg\")\n",
    "    image = image.save(newPath + \".jpg\")\n",
    "\n",
    "\n",
    "for t in range(len(test)):\n",
    "    sample = test[t]\n",
    "    \n",
    "    newPath = os.getcwd() + \"/balancedDataset/test/\" + str(t)\n",
    "    \n",
    "    txtFile = open(path + str(t) + \".txt\",\"r\").read()\n",
    "    newFile = open(newPath + \".txt\",\"w\")\n",
    "    newFile.write(txtFile)\n",
    "        \n",
    "    image = Image.open(path + str(t) + \".jpg\")\n",
    "    image = image.save(newPath + \".jpg\")"
   ]
  },
  {
   "cell_type": "code",
   "execution_count": null,
   "id": "corporate-attribute",
   "metadata": {},
   "outputs": [],
   "source": []
  }
 ],
 "metadata": {
  "kernelspec": {
   "display_name": "Python 3",
   "language": "python",
   "name": "python3"
  },
  "language_info": {
   "codemirror_mode": {
    "name": "ipython",
    "version": 3
   },
   "file_extension": ".py",
   "mimetype": "text/x-python",
   "name": "python",
   "nbconvert_exporter": "python",
   "pygments_lexer": "ipython3",
   "version": "3.7.7"
  }
 },
 "nbformat": 4,
 "nbformat_minor": 5
}
