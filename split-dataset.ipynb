{
 "cells": [
  {
   "cell_type": "code",
   "execution_count": 1,
   "id": "accompanied-secondary",
   "metadata": {},
   "outputs": [],
   "source": [
    "import os\n",
    "import numpy as np\n",
    "import math\n",
    "import random\n",
    "from PIL import Image\n",
    "\n",
    "path = os.getcwd() + \"/frames/img/\"\n",
    "numSamples = 1043"
   ]
  },
  {
   "cell_type": "markdown",
   "id": "blessed-gregory",
   "metadata": {},
   "source": [
    "## Get labels"
   ]
  },
  {
   "cell_type": "code",
   "execution_count": 2,
   "id": "flying-primary",
   "metadata": {},
   "outputs": [],
   "source": [
    "labels = np.empty((numSamples))\n",
    "\n",
    "for s in range(numSamples):\n",
    "    txtFile = open(path+str(s)+\".txt\",\"r\").read()\n",
    "    \n",
    "    if txtFile == \"\":\n",
    "        labels[s] = 0\n",
    "    else:\n",
    "        labels[s] = 1"
   ]
  },
  {
   "cell_type": "markdown",
   "id": "double-honey",
   "metadata": {},
   "source": [
    "## Calculate split"
   ]
  },
  {
   "cell_type": "code",
   "execution_count": 3,
   "id": "modern-ribbon",
   "metadata": {},
   "outputs": [
    {
     "data": {
      "text/plain": [
       "{0.0: 503, 1.0: 540}"
      ]
     },
     "execution_count": 3,
     "metadata": {},
     "output_type": "execute_result"
    }
   ],
   "source": [
    "unique, counts = np.unique(labels, return_counts=True)\n",
    "numClassSamples = min(counts) - (min(counts)%4)\n",
    "trainSplit = math.floor(0.7*numClassSamples)\n",
    "testSplit = numClassSamples - trainSplit\n",
    "\n",
    "dict(zip(unique, counts))"
   ]
  },
  {
   "cell_type": "markdown",
   "id": "official-baltimore",
   "metadata": {},
   "source": [
    "## Split data"
   ]
  },
  {
   "cell_type": "code",
   "execution_count": 4,
   "id": "electoral-waterproof",
   "metadata": {},
   "outputs": [],
   "source": [
    "order = np.arange(numSamples)\n",
    "random.shuffle(order)\n",
    "\n",
    "train = np.empty((trainSplit*2))\n",
    "trainBalance = [0,0]\n",
    "test = np.empty((testSplit*2))\n",
    "testBalance = [0,0]"
   ]
  },
  {
   "cell_type": "code",
   "execution_count": 80,
   "id": "hydraulic-there",
   "metadata": {},
   "outputs": [
    {
     "data": {
      "text/plain": [
       "500"
      ]
     },
     "execution_count": 80,
     "metadata": {},
     "output_type": "execute_result"
    }
   ],
   "source": [
    "numClassSamples"
   ]
  },
  {
   "cell_type": "code",
   "execution_count": 81,
   "id": "noble-palmer",
   "metadata": {},
   "outputs": [],
   "source": [
    "for index in order:\n",
    "    if labels[index] == 1:\n",
    "        isDoor = 1\n",
    "    else:\n",
    "        isDoor = 0\n",
    "        \n",
    "    if trainBalance[isDoor] < trainSplit:\n",
    "        train.put(trainBalance[0] + trainBalance[1], index)\n",
    "        trainBalance[isDoor] += 1\n",
    "        \n",
    "    elif testBalance[isDoor] < testSplit:\n",
    "        test.put(testBalance[0] + testBalance[1], index)\n",
    "        testBalance[isDoor] += 1"
   ]
  },
  {
   "cell_type": "code",
   "execution_count": 82,
   "id": "traditional-thought",
   "metadata": {},
   "outputs": [
    {
     "name": "stdout",
     "output_type": "stream",
     "text": [
      "[350, 350]\n",
      "[150, 150]\n"
     ]
    }
   ],
   "source": [
    "print(trainBalance)\n",
    "print(testBalance)\n",
    "train = train.astype(\"int\")\n",
    "test = test.astype(\"int\")"
   ]
  },
  {
   "cell_type": "code",
   "execution_count": 86,
   "id": "polished-white",
   "metadata": {},
   "outputs": [
    {
     "name": "stdout",
     "output_type": "stream",
     "text": [
      "True\n"
     ]
    }
   ],
   "source": [
    "unique, counts = np.unique(np.concatenate((test,train)), return_counts=True)\n",
    "print(len(counts) == 2*(testSplit+trainSplit))"
   ]
  },
  {
   "cell_type": "code",
   "execution_count": 87,
   "id": "industrial-cutting",
   "metadata": {},
   "outputs": [],
   "source": [
    "for s in range(len(train)):\n",
    "    sample = train[s]\n",
    "    \n",
    "    newPath = os.getcwd() + \"/balancedDataset/train/\" + str(s)\n",
    "    \n",
    "    txtFile = open(path + str(s) + \".txt\",\"r\").read()\n",
    "    newFile = open(newPath + \".txt\",\"w\")\n",
    "    newFile.write(txtFile)\n",
    "        \n",
    "    image = Image.open(path + str(s) + \".jpg\")\n",
    "    image = image.save(newPath + \".jpg\")\n",
    "\n",
    "\n",
    "for t in range(len(test)):\n",
    "    sample = test[t]\n",
    "    \n",
    "    newPath = os.getcwd() + \"/balancedDataset/test/\" + str(t)\n",
    "    \n",
    "    txtFile = open(path + str(t) + \".txt\",\"r\").read()\n",
    "    newFile = open(newPath + \".txt\",\"w\")\n",
    "    newFile.write(txtFile)\n",
    "        \n",
    "    image = Image.open(path + str(t) + \".jpg\")\n",
    "    image = image.save(newPath + \".jpg\")"
   ]
  },
  {
   "cell_type": "code",
   "execution_count": null,
   "id": "corporate-attribute",
   "metadata": {},
   "outputs": [],
   "source": []
  }
 ],
 "metadata": {
  "kernelspec": {
   "display_name": "Python 3",
   "language": "python",
   "name": "python3"
  },
  "language_info": {
   "codemirror_mode": {
    "name": "ipython",
    "version": 3
   },
   "file_extension": ".py",
   "mimetype": "text/x-python",
   "name": "python",
   "nbconvert_exporter": "python",
   "pygments_lexer": "ipython3",
   "version": "3.7.7"
  }
 },
 "nbformat": 4,
 "nbformat_minor": 5
}
