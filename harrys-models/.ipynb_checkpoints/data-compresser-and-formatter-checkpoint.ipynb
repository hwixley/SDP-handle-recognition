{
 "cells": [
  {
   "cell_type": "code",
   "execution_count": 4,
   "id": "rotary-poland",
   "metadata": {},
   "outputs": [],
   "source": [
    "import os\n",
    "import numpy as np\n",
    "import pandas\n",
    "from PIL import Image\n",
    "import sklearn\n",
    "import matplotlib.pyplot as plt"
   ]
  },
  {
   "cell_type": "markdown",
   "id": "dated-brisbane",
   "metadata": {},
   "source": [
    "## Flattened pixel matrix for features"
   ]
  },
  {
   "cell_type": "code",
   "execution_count": 5,
   "id": "intellectual-small",
   "metadata": {},
   "outputs": [],
   "source": [
    "width = 480\n",
    "height = 360\n",
    "\n",
    "def processImage(image):\n",
    "    imArray = np.asarray(image.resize((width,height)))[:,:,0].reshape(1,-1)\n",
    "    return imArray\n",
    "\n",
    "##Load images\n",
    "trainX = np.empty((564,width*height))\n",
    "\n",
    "testX = np.empty((140,width*height))\n",
    "\n",
    "for trX in range(564):\n",
    "    sample = Image.open(os.getcwd() + \"/../Synthetic-Data-Generator/dataset/train/\" + str(trX) + \".png\")\n",
    "    trainX[trX,:] = processImage(sample)\n",
    "\n",
    "np.save(os.getcwd() + \"/../Synthetic-Data-Generator/dataset/train/trainSamples\" + str(height) + \".npy\", trainX)\n",
    "    \n",
    "for teX in range(140):\n",
    "    sample = Image.open(os.getcwd() + \"/../Synthetic-Data-Generator/dataset/test/\" + str(teX) + \".png\")\n",
    "    testX[teX,:] = processImage(sample)\n",
    "\n",
    "np.save(os.getcwd() + \"/../Synthetic-Data-Generator/dataset/test/testSamples\" + str(height) + \".npy\", testX)"
   ]
  },
  {
   "cell_type": "markdown",
   "id": "competitive-memory",
   "metadata": {},
   "source": [
    "#### Retain colours"
   ]
  },
  {
   "cell_type": "code",
   "execution_count": 6,
   "id": "graphic-michigan",
   "metadata": {},
   "outputs": [],
   "source": [
    "width = 640\n",
    "height = 360\n",
    "numSamples = 1000\n",
    "trainSamples = int(0.7*numSamples)\n",
    "testSamples = numSamples - trainSamples\n",
    "\n",
    "\n",
    "def processImage(image):\n",
    "    imArray = np.asarray(image.resize((width,height))).reshape(1,-1)\n",
    "    return imArray\n",
    "\n",
    "##Load images\n",
    "trainX = np.empty((trainSamples,width*height*3))\n",
    "\n",
    "testX = np.empty((testSamples,width*height*3))\n",
    "\n",
    "for trX in range(trainSamples):\n",
    "    sample = Image.open(os.getcwd() + \"/../dataset/train/\" + str(trX) + \".png\")\n",
    "    trainX[trX,:] = processImage(sample)\n",
    "\n",
    "np.save(os.getcwd() + \"/../dataset/train/trainSamples\" + str(height) + \".npy\", trainX)\n",
    "    \n",
    "for teX in range(testSamples):\n",
    "    sample = Image.open(os.getcwd() + \"/../dataset/test/\" + str(teX) + \".png\")\n",
    "    testX[teX,:] = processImage(sample)\n",
    "\n",
    "np.save(os.getcwd() + \"/../dataset/test/testSamples\" + str(height) + \".npy\", testX)"
   ]
  },
  {
   "cell_type": "markdown",
   "id": "ancient-compiler",
   "metadata": {},
   "source": [
    "## Hog features"
   ]
  },
  {
   "cell_type": "code",
   "execution_count": 15,
   "id": "forty-python",
   "metadata": {},
   "outputs": [],
   "source": [
    "from skimage.feature import hog\n",
    "\n",
    "def processImageIntoHog(image):\n",
    "    img = image.resize((426,240))\n",
    "    fd, hog_image = hog(img, orientations=9, pixels_per_cell=(8, 8), cells_per_block=(2, 2), visualize=True, multichannel=True)\n",
    "    return hog_image.reshape(1,-1)\n",
    "\n",
    "##Load images\n",
    "trainX = np.empty((564,102240))\n",
    "\n",
    "testX = np.empty((140,102240))\n",
    "\n",
    "for trX in range(564):\n",
    "    sample = Image.open(os.getcwd() + \"/dataset/training/\" + str(trX) + \".png\")\n",
    "    trainX[trX,:] = processImageIntoHog(sample)\n",
    "\n",
    "np.save(os.getcwd() + \"/dataset/training/trainHogSamples.npy\", trainX)\n",
    "    \n",
    "for teX in range(140):\n",
    "    sample = Image.open(os.getcwd() + \"/dataset/testing/\" + str(teX) + \".png\")\n",
    "    testX[teX,:] = processImageIntoHog(sample)\n",
    "\n",
    "np.save(os.getcwd() + \"/dataset/testing/testHogSamples.npy\", testX)"
   ]
  },
  {
   "cell_type": "markdown",
   "id": "confused-industry",
   "metadata": {},
   "source": [
    "## PCA dimension reduction"
   ]
  },
  {
   "cell_type": "code",
   "execution_count": 2,
   "id": "colonial-signature",
   "metadata": {},
   "outputs": [],
   "source": [
    "from sklearn.decomposition import PCA\n",
    "\n",
    "width = 1024\n",
    "height = 576\n",
    "\n",
    "def flattenImage(image):\n",
    "    return np.asarray(image.resize((width,height)))[:,:,0].reshape(1,-1)\n",
    "\n",
    "##Load images\n",
    "#Training\n",
    "trainX = np.empty((564,width*height))\n",
    "pcaTrainX = np.empty((564,564))\n",
    "\n",
    "for trX in range(564):\n",
    "    sample = Image.open(os.getcwd() + \"/dataset/training/\" + str(trX) + \".png\")\n",
    "    trainX[trX,:] = flattenImage(sample)\n",
    "\n",
    "pca = PCA(n_components=564).fit(trainX)\n",
    "\n",
    "pcaTrainX = pca.transform(trainX)\n",
    "np.save(os.getcwd() + \"/dataset/training/pcaTrainSamples.npy\", pcaTrainX)\n",
    "\n",
    "#Testing\n",
    "testX = np.empty((140,width*height))\n",
    "pcaTestX = np.empty((140,564))\n",
    "\n",
    "for teX in range(140):\n",
    "    sample = Image.open(os.getcwd() + \"/dataset/testing/\" + str(teX) + \".png\")\n",
    "    testX[teX,:] = flattenImage(sample)\n",
    "\n",
    "pcaTestX = pca.transform(testX)\n",
    "np.save(os.getcwd() + \"/dataset/testing/pcaTestSamples.npy\", pcaTestX)"
   ]
  },
  {
   "cell_type": "code",
   "execution_count": null,
   "id": "together-address",
   "metadata": {},
   "outputs": [],
   "source": []
  }
 ],
 "metadata": {
  "kernelspec": {
   "display_name": "Python 3",
   "language": "python",
   "name": "python3"
  },
  "language_info": {
   "codemirror_mode": {
    "name": "ipython",
    "version": 3
   },
   "file_extension": ".py",
   "mimetype": "text/x-python",
   "name": "python",
   "nbconvert_exporter": "python",
   "pygments_lexer": "ipython3",
   "version": "3.7.7"
  }
 },
 "nbformat": 4,
 "nbformat_minor": 5
}
