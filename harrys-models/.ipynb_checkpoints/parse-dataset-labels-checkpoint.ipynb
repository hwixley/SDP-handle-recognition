{
 "cells": [
  {
   "cell_type": "code",
   "execution_count": 8,
   "id": "objective-israeli",
   "metadata": {},
   "outputs": [],
   "source": [
    "import os\n",
    "import numpy as np\n",
    "import math\n",
    "import random\n",
    "from PIL import Image\n",
    "\n",
    "path = os.getcwd() + \"/../dataset/\"\n",
    "numSamples = 1000\n",
    "trainSamples = int(numSamples*0.7)\n",
    "testSamples = numSamples - trainSamples"
   ]
  },
  {
   "cell_type": "code",
   "execution_count": 9,
   "id": "experimental-facing",
   "metadata": {},
   "outputs": [
    {
     "ename": "FileNotFoundError",
     "evalue": "[Errno 2] No such file or directory: '/home/hwixley/Documents/Year3/SDP/HandleRecognition/Models/harrys-models/../dataset/0.txt'",
     "output_type": "error",
     "traceback": [
      "\u001b[0;31m---------------------------------------------------------------------------\u001b[0m",
      "\u001b[0;31mFileNotFoundError\u001b[0m                         Traceback (most recent call last)",
      "\u001b[0;32m<ipython-input-9-f5a7c2f5e17b>\u001b[0m in \u001b[0;36m<module>\u001b[0;34m\u001b[0m\n\u001b[1;32m      3\u001b[0m \u001b[0;34m\u001b[0m\u001b[0m\n\u001b[1;32m      4\u001b[0m \u001b[0;32mfor\u001b[0m \u001b[0mt\u001b[0m \u001b[0;32min\u001b[0m \u001b[0mrange\u001b[0m\u001b[0;34m(\u001b[0m\u001b[0mtrainSamples\u001b[0m\u001b[0;34m)\u001b[0m\u001b[0;34m:\u001b[0m\u001b[0;34m\u001b[0m\u001b[0;34m\u001b[0m\u001b[0m\n\u001b[0;32m----> 5\u001b[0;31m     \u001b[0mtxtFile\u001b[0m \u001b[0;34m=\u001b[0m \u001b[0mopen\u001b[0m\u001b[0;34m(\u001b[0m\u001b[0mpath\u001b[0m\u001b[0;34m+\u001b[0m\u001b[0mstr\u001b[0m\u001b[0;34m(\u001b[0m\u001b[0mt\u001b[0m\u001b[0;34m)\u001b[0m\u001b[0;34m+\u001b[0m\u001b[0;34m\".txt\"\u001b[0m\u001b[0;34m,\u001b[0m\u001b[0;34m\"r\"\u001b[0m\u001b[0;34m)\u001b[0m\u001b[0;34m.\u001b[0m\u001b[0mread\u001b[0m\u001b[0;34m(\u001b[0m\u001b[0;34m)\u001b[0m\u001b[0;34m\u001b[0m\u001b[0;34m\u001b[0m\u001b[0m\n\u001b[0m\u001b[1;32m      6\u001b[0m \u001b[0;34m\u001b[0m\u001b[0m\n\u001b[1;32m      7\u001b[0m     \u001b[0;32mif\u001b[0m \u001b[0mtxtFile\u001b[0m \u001b[0;34m==\u001b[0m \u001b[0;34m\"\"\u001b[0m\u001b[0;34m:\u001b[0m\u001b[0;34m\u001b[0m\u001b[0;34m\u001b[0m\u001b[0m\n",
      "\u001b[0;31mFileNotFoundError\u001b[0m: [Errno 2] No such file or directory: '/home/hwixley/Documents/Year3/SDP/HandleRecognition/Models/harrys-models/../dataset/0.txt'"
     ]
    }
   ],
   "source": [
    "trainLabels = np.empty((trainSamples))\n",
    "testLabels = np.empty((testSamples))\n",
    "\n",
    "for t in range(trainSamples):\n",
    "    txtFile = open(path+\"train/\"+str(t)+\".txt\",\"r\").read()\n",
    "    \n",
    "    if txtFile == \"\":\n",
    "        trainLabels[t] = 0\n",
    "    else:\n",
    "        trainLabels[t] = 1\n",
    "        \n",
    "np.save(path+\"train/trainLabels.npy\", trainLabels)\n",
    "        \n",
    "for s in range(testSamples):\n",
    "    txtFile = open(path+\"test/\"+str(s)+\".txt\",\"r\").read()\n",
    "    \n",
    "    if txtFile == \"\":\n",
    "        testLabels[s] = 0\n",
    "    else:\n",
    "        testLabels[s] = 1\n",
    "        \n",
    "np.save(path+\"test/testLabels.npy\", testLabels)"
   ]
  },
  {
   "cell_type": "code",
   "execution_count": null,
   "id": "allied-sandwich",
   "metadata": {},
   "outputs": [],
   "source": []
  }
 ],
 "metadata": {
  "kernelspec": {
   "display_name": "Python 3",
   "language": "python",
   "name": "python3"
  },
  "language_info": {
   "codemirror_mode": {
    "name": "ipython",
    "version": 3
   },
   "file_extension": ".py",
   "mimetype": "text/x-python",
   "name": "python",
   "nbconvert_exporter": "python",
   "pygments_lexer": "ipython3",
   "version": "3.7.7"
  }
 },
 "nbformat": 4,
 "nbformat_minor": 5
}
