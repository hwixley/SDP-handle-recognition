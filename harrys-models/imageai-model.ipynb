{
 "cells": [
  {
   "cell_type": "code",
   "execution_count": 5,
   "id": "collaborative-sustainability",
   "metadata": {},
   "outputs": [],
   "source": [
    "import os\n",
    "from PIL import Image\n",
    "import numpy as np\n",
    "\n",
    "path = os.getcwd() + \"/../Synthetic-Data-Generator/dataset/\"\n",
    "trainLabels = np.load(path + \"old/training/trainLabels.npy\")\n",
    "testLabels = np.load(path + \"old/testing/testLabels.npy\")\n",
    "\n",
    "#for l in range(len(trainLabels)):\n",
    "#    label = trainLabels[l]\n",
    "#    img = Image.open(path+\"old/training/\" + str(l) + \".png\")\n",
    "#    \n",
    "#    if label == 1:\n",
    "#        img2 = img.save(path + \"train/door/\" +str(l) +\".png\")\n",
    "#        img3 = img.save(path + \"train/handle/\" + str(l) +\".png\")\n",
    "\n",
    "#for l in range(len(testLabels)):\n",
    "#    label = testLabels[l]\n",
    "#    img = Image.open(path+\"old/testing/\" + str(l) + \".png\")\n",
    "##    \n",
    "#    if label == 1:\n",
    "#        img2 = img.save(path + \"test/door/\" + str(l)+ \".png\")\n",
    "#        img3 = img.save(path + \"test/handle/\" +str(l) + \".png\")\n",
    "    "
   ]
  },
  {
   "cell_type": "code",
   "execution_count": 8,
   "id": "supposed-jungle",
   "metadata": {},
   "outputs": [
    {
     "ename": "AttributeError",
     "evalue": "module 'imageai.Prediction.Custom' has no attribute 'ClassificationModelTrainer'",
     "output_type": "error",
     "traceback": [
      "\u001b[0;31m---------------------------------------------------------------------------\u001b[0m",
      "\u001b[0;31mAttributeError\u001b[0m                            Traceback (most recent call last)",
      "\u001b[0;32m<ipython-input-8-dbc62504c96a>\u001b[0m in \u001b[0;36m<module>\u001b[0;34m\u001b[0m\n\u001b[1;32m      3\u001b[0m \u001b[0;34m\u001b[0m\u001b[0m\n\u001b[1;32m      4\u001b[0m \u001b[0;34m\u001b[0m\u001b[0m\n\u001b[0;32m----> 5\u001b[0;31m \u001b[0mmodel_trainer\u001b[0m \u001b[0;34m=\u001b[0m \u001b[0mCustom\u001b[0m\u001b[0;34m.\u001b[0m\u001b[0mClassificationModelTrainer\u001b[0m\u001b[0;34m(\u001b[0m\u001b[0;34m)\u001b[0m\u001b[0;34m\u001b[0m\u001b[0;34m\u001b[0m\u001b[0m\n\u001b[0m\u001b[1;32m      6\u001b[0m \u001b[0mmodel_trainer\u001b[0m\u001b[0;34m.\u001b[0m\u001b[0msetModelTypeAsResNet50\u001b[0m\u001b[0;34m(\u001b[0m\u001b[0;34m)\u001b[0m\u001b[0;34m\u001b[0m\u001b[0;34m\u001b[0m\u001b[0m\n\u001b[1;32m      7\u001b[0m \u001b[0mmodel_trainer\u001b[0m\u001b[0;34m.\u001b[0m\u001b[0msetDataDirectory\u001b[0m\u001b[0;34m(\u001b[0m\u001b[0mpath\u001b[0m\u001b[0;34m)\u001b[0m\u001b[0;34m\u001b[0m\u001b[0;34m\u001b[0m\u001b[0m\n",
      "\u001b[0;31mAttributeError\u001b[0m: module 'imageai.Prediction.Custom' has no attribute 'ClassificationModelTrainer'"
     ]
    }
   ],
   "source": [
    "from imageai.Prediction import Custom\n",
    "#ClassificationModelTrainer\n",
    "\n",
    "\n",
    "model_trainer = Custom.ClassificationModelTrainer()\n",
    "model_trainer.setModelTypeAsResNet50()\n",
    "model_trainer.setDataDirectory(path)\n",
    "model_trainer.trainModel(num_objects=2, num_experiments=100, enhance_data=True, batch_size=32, show_network_summary=True)"
   ]
  },
  {
   "cell_type": "code",
   "execution_count": null,
   "id": "supposed-adjustment",
   "metadata": {},
   "outputs": [],
   "source": []
  }
 ],
 "metadata": {
  "kernelspec": {
   "display_name": "Python 3",
   "language": "python",
   "name": "python3"
  },
  "language_info": {
   "codemirror_mode": {
    "name": "ipython",
    "version": 3
   },
   "file_extension": ".py",
   "mimetype": "text/x-python",
   "name": "python",
   "nbconvert_exporter": "python",
   "pygments_lexer": "ipython3",
   "version": "3.7.7"
  }
 },
 "nbformat": 4,
 "nbformat_minor": 5
}
