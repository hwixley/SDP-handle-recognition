{
 "cells": [
  {
   "cell_type": "code",
   "execution_count": 1,
   "id": "surprising-upper",
   "metadata": {},
   "outputs": [],
   "source": [
    "import os\n",
    "import numpy as np\n",
    "import math\n",
    "import random\n",
    "from PIL import Image\n",
    "\n",
    "path = os.getcwd() + \"/../dataset/\"\n",
    "numSamples = 1000\n",
    "trainSamples = int(numSamples*0.7)\n",
    "testSamples = numSamples - trainSamples"
   ]
  },
  {
   "cell_type": "code",
   "execution_count": 10,
   "id": "heated-primary",
   "metadata": {},
   "outputs": [],
   "source": [
    "trainLabels = np.empty((trainSamples))\n",
    "testLabels = np.empty((testSamples))\n",
    "\n",
    "for t in range(trainSamples):\n",
    "    txtFile = open(path+\"train/\"+str(t)+\".txt\",\"r\").read()\n",
    "    \n",
    "    if txtFile == \"\":\n",
    "        trainLabels[t] = 0\n",
    "    else:\n",
    "        trainLabels[t] = 1\n",
    "        \n",
    "np.save(path+\"train/trainLabels.npy\", trainLabels)\n",
    "        \n",
    "for s in range(testSamples):\n",
    "    txtFile = open(path+\"test/\"+str(s)+\".txt\",\"r\").read()\n",
    "    \n",
    "    if txtFile == \"\":\n",
    "        testLabels[s] = 0\n",
    "    else:\n",
    "        testLabels[s] = 1\n",
    "        \n",
    "np.save(path+\"test/testLabels.npy\", testLabels)"
   ]
  },
  {
   "cell_type": "code",
   "execution_count": null,
   "id": "isolated-sally",
   "metadata": {},
   "outputs": [],
   "source": []
  }
 ],
 "metadata": {
  "kernelspec": {
   "display_name": "Python 3",
   "language": "python",
   "name": "python3"
  },
  "language_info": {
   "codemirror_mode": {
    "name": "ipython",
    "version": 3
   },
   "file_extension": ".py",
   "mimetype": "text/x-python",
   "name": "python",
   "nbconvert_exporter": "python",
   "pygments_lexer": "ipython3",
   "version": "3.7.7"
  }
 },
 "nbformat": 4,
 "nbformat_minor": 5
}
