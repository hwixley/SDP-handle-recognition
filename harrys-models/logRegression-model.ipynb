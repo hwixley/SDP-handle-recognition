{
 "cells": [
  {
   "cell_type": "code",
   "execution_count": 1,
   "id": "waiting-trade",
   "metadata": {},
   "outputs": [],
   "source": [
    "import os\n",
    "import numpy as np\n",
    "import pandas as pd\n",
    "from sklearn.linear_model import LogisticRegression\n",
    "from sklearn.metrics import classification_report\n",
    "from PIL import Image\n",
    "import pickle\n",
    "from sklearn.metrics import roc_curve, auc\n",
    "import matplotlib.pyplot as plt"
   ]
  },
  {
   "cell_type": "code",
   "execution_count": 2,
   "id": "beautiful-frame",
   "metadata": {},
   "outputs": [],
   "source": [
    "path1 = os.getcwd() + \"/../../data/npy-data/\"\n",
    "path2 = os.getcwd() + \"/../dataset/\"\n",
    "res = \"504\"\n",
    "\n",
    "trainX = np.load(path1 + \"trainSamples-\"+res+\"-withColour.npy\")\n",
    "trainY = np.load(path2 + \"train/trainLabels.npy\").astype(\"int\")\n",
    "testX = np.load(path1 + \"testSamples-\"+res+\"-withColour.npy\")\n",
    "testY = np.load(path2 + \"test/testLabels.npy\").astype(\"int\")"
   ]
  },
  {
   "cell_type": "code",
   "execution_count": 3,
   "id": "living-macro",
   "metadata": {},
   "outputs": [
    {
     "name": "stderr",
     "output_type": "stream",
     "text": [
      "/home/hwixley/Packages/miniconda3/envs/py3/lib/python3.7/site-packages/sklearn/linear_model/_logistic.py:764: ConvergenceWarning: lbfgs failed to converge (status=1):\n",
      "STOP: TOTAL NO. of ITERATIONS REACHED LIMIT.\n",
      "\n",
      "Increase the number of iterations (max_iter) or scale the data as shown in:\n",
      "    https://scikit-learn.org/stable/modules/preprocessing.html\n",
      "Please also refer to the documentation for alternative solver options:\n",
      "    https://scikit-learn.org/stable/modules/linear_model.html#logistic-regression\n",
      "  extra_warning_msg=_LOGISTIC_SOLVER_CONVERGENCE_MSG)\n"
     ]
    },
    {
     "name": "stdout",
     "output_type": "stream",
     "text": [
      "              precision    recall  f1-score   support\n",
      "\n",
      "           0       0.83      0.92      0.87       150\n",
      "           1       0.91      0.81      0.86       150\n",
      "\n",
      "    accuracy                           0.86       300\n",
      "   macro avg       0.87      0.86      0.86       300\n",
      "weighted avg       0.87      0.86      0.86       300\n",
      "\n"
     ]
    },
    {
     "data": {
      "image/png": "[encoded data removed]",
      "text/plain": [
       "<Figure size 432x288 with 1 Axes>"
      ]
     },
     "metadata": {
      "needs_background": "light"
     },
     "output_type": "display_data"
    }
   ],
   "source": [
    "logR = LogisticRegression().fit(trainX,trainY)\n",
    "predY = logR.predict(testX)\n",
    "\n",
    "print(classification_report(testY, predY))\n",
    "\n",
    "pickle.dump(logR, open(\"log-reg-model-\"+res+\".pkl\",\"wb\"))\n",
    "\n",
    "false_positive_rate, recall, thresholds = roc_curve(testY,predY)\n",
    "roc_auc = auc(false_positive_rate, recall)\n",
    "plt.title('Receiver Operating Characteristic')\n",
    "plt.plot(false_positive_rate, recall, 'b', label='AUC = %0.2f' % roc_auc)\n",
    "plt.legend(loc='lower right')\n",
    "plt.plot([0, 1], [0, 1], 'r--')\n",
    "plt.xlim([0.0, 1.0])\n",
    "plt.ylim([0.0, 1.0])\n",
    "plt.ylabel('Recall')\n",
    "plt.xlabel('Fall-out')\n",
    "plt.show()"
   ]
  },
  {
   "cell_type": "code",
   "execution_count": 6,
   "id": "divided-reunion",
   "metadata": {},
   "outputs": [
    {
     "name": "stdout",
     "output_type": "stream",
     "text": [
      "[0 1]\n"
     ]
    }
   ],
   "source": [
    "arr = np.empty((2,896*504*3))\n",
    "arr[0,:] = np.asarray(Image.open(\"/home/hwixley/Downloads/image.png\").resize((896,504))).reshape(1,-1)\n",
    "arr[1,:] = np.asarray(Image.open(\"/home/hwixley/Downloads/image2.png\").resize((896,504))).reshape(1,-1)\n",
    "\n",
    "print(logR.predict(arr))"
   ]
  },
  {
   "cell_type": "code",
   "execution_count": 11,
   "id": "dense-healing",
   "metadata": {},
   "outputs": [],
   "source": [
    "logr = pd.read_pickle(os.getcwd() + \"/../../model-pickle-files/logR-model.pkl\")"
   ]
  },
  {
   "cell_type": "code",
   "execution_count": 14,
   "id": "touched-briefing",
   "metadata": {},
   "outputs": [
    {
     "data": {
      "text/plain": [
       "0"
      ]
     },
     "execution_count": 14,
     "metadata": {},
     "output_type": "execute_result"
    }
   ],
   "source": [
    "logr.predict(arr[0,:].reshape(1,-1))[0]"
   ]
  },
  {
   "cell_type": "code",
   "execution_count": 17,
   "id": "measured-lightweight",
   "metadata": {},
   "outputs": [],
   "source": []
  },
  {
   "cell_type": "code",
   "execution_count": null,
   "id": "basic-reservoir",
   "metadata": {},
   "outputs": [],
   "source": []
  }
 ],
 "metadata": {
  "kernelspec": {
   "display_name": "Python 3",
   "language": "python",
   "name": "python3"
  },
  "language_info": {
   "codemirror_mode": {
    "name": "ipython",
    "version": 3
   },
   "file_extension": ".py",
   "mimetype": "text/x-python",
   "name": "python",
   "nbconvert_exporter": "python",
   "pygments_lexer": "ipython3",
   "version": "3.7.7"
  }
 },
 "nbformat": 4,
 "nbformat_minor": 5
}
