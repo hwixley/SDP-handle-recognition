{
 "cells": [
  {
   "cell_type": "code",
   "execution_count": 1,
   "id": "waiting-trade",
   "metadata": {},
   "outputs": [],
   "source": [
    "import os\n",
    "import numpy as np\n",
    "import pandas\n",
    "from sklearn.linear_model import LogisticRegression\n",
    "from sklearn.metrics import classification_report\n",
    "from PIL import Image"
   ]
  },
  {
   "cell_type": "code",
   "execution_count": 2,
   "id": "beautiful-frame",
   "metadata": {},
   "outputs": [],
   "source": [
    "path = os.getcwd() + \"/../Synthetic-Data-Generator/dataset/\"\n",
    "res = \"360\"\n",
    "\n",
    "trainX = np.load(path + \"training/trainSamples\"+res+\".npy\")\n",
    "trainY = np.load(path + \"training/trainLabels.npy\").astype(\"int\")\n",
    "testX = np.load(path + \"testing/testSamples\"+res+\".npy\")\n",
    "testY = np.load(path + \"testing/testLabels.npy\").astype(\"int\")"
   ]
  },
  {
   "cell_type": "code",
   "execution_count": 3,
   "id": "living-macro",
   "metadata": {},
   "outputs": [
    {
     "name": "stdout",
     "output_type": "stream",
     "text": [
      "              precision    recall  f1-score   support\n",
      "\n",
      "           0       0.63      0.89      0.73        70\n",
      "           1       0.80      0.47      0.59        70\n",
      "\n",
      "    accuracy                           0.68       140\n",
      "   macro avg       0.72      0.68      0.66       140\n",
      "weighted avg       0.72      0.68      0.66       140\n",
      "\n"
     ]
    }
   ],
   "source": [
    "logR = LogisticRegression().fit(trainX,trainY)\n",
    "predY = logR.predict(testX)\n",
    "\n",
    "print(classification_report(testY, predY))"
   ]
  },
  {
   "cell_type": "code",
   "execution_count": 6,
   "id": "divided-reunion",
   "metadata": {},
   "outputs": [],
   "source": [
    "import pickle\n",
    "\n",
    "pickle.dump(logR, open(\"logR-model.pkl\",\"wb\"))"
   ]
  },
  {
   "cell_type": "code",
   "execution_count": null,
   "id": "dense-healing",
   "metadata": {},
   "outputs": [],
   "source": []
  }
 ],
 "metadata": {
  "kernelspec": {
   "display_name": "Python 3",
   "language": "python",
   "name": "python3"
  },
  "language_info": {
   "codemirror_mode": {
    "name": "ipython",
    "version": 3
   },
   "file_extension": ".py",
   "mimetype": "text/x-python",
   "name": "python",
   "nbconvert_exporter": "python",
   "pygments_lexer": "ipython3",
   "version": "3.7.7"
  }
 },
 "nbformat": 4,
 "nbformat_minor": 5
}
