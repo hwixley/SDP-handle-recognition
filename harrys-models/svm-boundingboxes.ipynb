{
 "cells": [
  {
   "cell_type": "code",
   "execution_count": 1,
   "id": "cheap-sleeve",
   "metadata": {},
   "outputs": [],
   "source": [
    "import os\n",
    "import numpy as np\n",
    "import pandas\n",
    "from sklearn.linear_model import LogisticRegression\n",
    "from sklearn.metrics import classification_report\n",
    "from PIL import Image"
   ]
  },
  {
   "cell_type": "code",
   "execution_count": null,
   "id": "organic-oxford",
   "metadata": {},
   "outputs": [],
   "source": [
    "path = os.getcwd() + \"/../dataset/\"\n",
    "res = \"360\"\n",
    "\n",
    "trainX = np.load(path + \"training/trainSamples\"+res+\".npy\")\n",
    "trainY = np.load(path + \"training/trainLabels.npy\").astype(\"int\")\n",
    "testX = np.load(path + \"testing/testSamples\"+res+\".npy\")\n",
    "testY = np.load(path + \"testing/testLabels.npy\").astype(\"int\")"
   ]
  }
 ],
 "metadata": {
  "kernelspec": {
   "display_name": "Python 3",
   "language": "python",
   "name": "python3"
  },
  "language_info": {
   "codemirror_mode": {
    "name": "ipython",
    "version": 3
   },
   "file_extension": ".py",
   "mimetype": "text/x-python",
   "name": "python",
   "nbconvert_exporter": "python",
   "pygments_lexer": "ipython3",
   "version": "3.7.7"
  }
 },
 "nbformat": 4,
 "nbformat_minor": 5
}
